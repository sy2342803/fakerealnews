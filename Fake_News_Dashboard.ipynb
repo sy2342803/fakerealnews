{
 "cells": [
  {
   "cell_type": "code",
   "execution_count": null,
   "id": "47e70159",
   "metadata": {},
   "outputs": [],
   "source": [
    "import matplotlib.pyplot as plt\n",
    "import matplotlib.font_manager as fm"
   ]
  },
  {
   "cell_type": "code",
   "execution_count": null,
   "id": "6b6ae9a7",
   "metadata": {},
   "outputs": [],
   "source": [
    "# macOS용 한글 폰트 경로\n",
    "font_path = \"/System/Library/Fonts/Supplemental/AppleGothic.ttf\"\n",
    "font_prop = fm.FontProperties(fname=font_path)\n",
    "plt.rcParams['font.family'] = font_prop.get_name()\n",
    "plt.rcParams['axes.unicode_minus'] = False"
   ]
  },
  {
   "cell_type": "code",
   "execution_count": null,
   "id": "324c7025",
   "metadata": {},
   "outputs": [],
   "source": [
    "import streamlit as st\n",
    "import pandas as pd\n",
    "import seaborn as sns\n",
    "import joblib\n",
    "import re\n",
    "from collections import Counter\n",
    "from wordcloud import WordCloud\n",
    "import nltk\n",
    "from nltk.corpus import stopwords\n",
    "from datetime import datetime\n",
    "nltk.download('stopwords')"
   ]
  },
  {
   "cell_type": "code",
   "execution_count": null,
   "id": "64d1a053",
   "metadata": {},
   "outputs": [],
   "source": [
    "# 사이드바로 모드 선택\n",
    "mode = st.sidebar.selectbox(\"🧭 모드 선택\", [\"뉴스 판별기\", \"데이터 분석\"])"
   ]
  },
  {
   "cell_type": "code",
   "execution_count": null,
   "id": "21da64b9",
   "metadata": {},
   "outputs": [],
   "source": [
    "# =======================\n",
    "# 뉴스 판별기\n",
    "# =======================\n",
    "if mode == \"뉴스 판별기\":\n",
    "    st.markdown(\"## 🧪 뉴스 기사 가짜/진짜 판별기\")\n",
    "    st.write(\"뉴스 제목과 내용을 입력하면 AI가 판단해줘요!\")"
   ]
  },
  {
   "cell_type": "code",
   "execution_count": null,
   "id": "d4f745f6",
   "metadata": {},
   "outputs": [],
   "source": [
    "    @st.cache_resource\n",
    "    def load_model():\n",
    "        return joblib.load('fake_news_model.pkl')"
   ]
  },
  {
   "cell_type": "code",
   "execution_count": null,
   "id": "dccaa907",
   "metadata": {},
   "outputs": [],
   "source": [
    "    model = load_model()"
   ]
  },
  {
   "cell_type": "code",
   "execution_count": null,
   "id": "d5378659",
   "metadata": {},
   "outputs": [],
   "source": [
    "    title = st.text_input(\"📰 뉴스 제목을 입력하세요\")\n",
    "    content = st.text_area(\"📄 뉴스 본문을 입력하세요\")"
   ]
  },
  {
   "cell_type": "code",
   "execution_count": null,
   "id": "a57b87dd",
   "metadata": {},
   "outputs": [],
   "source": [
    "    if st.button(\"✅ 판별하기\"):\n",
    "        if not content.strip():\n",
    "            st.warning(\"❗ 뉴스 본문을 입력해주세요.\")\n",
    "        else:\n",
    "            full_text = title + \" \" + content\n",
    "            result = model.predict_proba([full_text])[0][1]\n",
    "            if result > 0.5:\n",
    "                st.error(f\"❌ 가짜 뉴스일 확률: {result*100:.1f}%\")\n",
    "            else:\n",
    "                st.success(f\"✅ 진짜 뉴스일 확률: {(1-result)*100:.1f}%\")"
   ]
  },
  {
   "cell_type": "code",
   "execution_count": null,
   "id": "2767c92c",
   "metadata": {},
   "outputs": [],
   "source": [
    "    # 단어 빈도 시각화 (불용어 제거)\n",
    "    st.markdown(\"---\")\n",
    "    st.markdown(\"### 📊 가짜 뉴스에서 많이 나온 단어 (Top 20, 불용어 제거)\")"
   ]
  },
  {
   "cell_type": "code",
   "execution_count": null,
   "id": "17e8b669",
   "metadata": {},
   "outputs": [],
   "source": [
    "    @st.cache_data\n",
    "    def get_filtered_top_words():\n",
    "        try:\n",
    "            df = pd.read_csv('Fake.csv')\n",
    "            text = ' '.join(df['text'].dropna().tolist())\n",
    "            words = re.findall(r'\\b\\w+\\b', text.lower())\n",
    "            filtered = [w for w in words if w not in stopwords.words('english') and len(w) > 2]\n",
    "            counter = Counter(filtered)\n",
    "            return counter.most_common(20)\n",
    "        except:\n",
    "            return []"
   ]
  },
  {
   "cell_type": "code",
   "execution_count": null,
   "id": "e0a5c4af",
   "metadata": {},
   "outputs": [],
   "source": [
    "    top_words = get_filtered_top_words()\n",
    "    st.table(pd.DataFrame(top_words, columns=[\"단어\", \"횟수\"]))"
   ]
  },
  {
   "cell_type": "code",
   "execution_count": null,
   "id": "f0dbd0db",
   "metadata": {},
   "outputs": [],
   "source": [
    "    if top_words:\n",
    "        words, counts = zip(*top_words)\n",
    "        fig, ax = plt.subplots(figsize=(8, 10))\n",
    "        ax.barh(words[::-1], counts[::-1], color='tomato')\n",
    "        ax.set_title('가짜 뉴스에서 가장 많이 나온 단어')\n",
    "        ax.set_xlabel('등장 횟수')\n",
    "        ax.set_ylabel('단어')\n",
    "        st.pyplot(fig)\n",
    "    else:\n",
    "        st.info(\"⚠️ 표시할 단어가 없습니다.\")"
   ]
  },
  {
   "cell_type": "code",
   "execution_count": null,
   "id": "fd87520a",
   "metadata": {},
   "outputs": [],
   "source": [
    "# =======================\n",
    "# 데이터 분석\n",
    "# =======================\n",
    "elif mode == \"데이터 분석\":\n",
    "    st.markdown(\"## 📊 가짜 뉴스 데이터 분석\")"
   ]
  },
  {
   "cell_type": "code",
   "execution_count": null,
   "id": "b391634f",
   "metadata": {},
   "outputs": [],
   "source": [
    "    @st.cache_data\n",
    "    def load_data():\n",
    "        df = pd.read_csv(\"merged_data_complete.csv\")\n",
    "        df[\"sentiment_score\"] = pd.to_numeric(df[\"sentiment_score\"], errors=\"coerce\")\n",
    "        df[\"date\"] = pd.to_datetime(df[\"date\"], errors=\"coerce\")\n",
    "        if \"sentiment_label\" not in df.columns or df[\"sentiment_label\"].isnull().sum() > 0:\n",
    "            def get_sentiment_label(score):\n",
    "                if pd.isna(score): return None\n",
    "                if score > 0.2:\n",
    "                    return \"긍정\"\n",
    "                elif score < -0.2:\n",
    "                    return \"부정\"\n",
    "                else:\n",
    "                    return \"중립\"\n",
    "            df[\"sentiment_label\"] = df[\"sentiment_score\"].apply(get_sentiment_label)\n",
    "        return df"
   ]
  },
  {
   "cell_type": "code",
   "execution_count": null,
   "id": "95ad3bf6",
   "metadata": {},
   "outputs": [],
   "source": [
    "    df = load_data()"
   ]
  },
  {
   "cell_type": "code",
   "execution_count": null,
   "id": "d41483a6",
   "metadata": {},
   "outputs": [],
   "source": [
    "    analysis_option = st.selectbox(\"분석 항목을 선택하세요\", [\n",
    "        \"제목 단어 수 분포\",\n",
    "        \"본문 단어 수 분포\",\n",
    "        \"감정 점수 분포\",\n",
    "        \"감정 결과 분포\",\n",
    "        \"자극 단어 포함 비율\",\n",
    "        \"시기별 FAKE 뉴스 트렌드\",\n",
    "        \"카테고리별 FAKE 뉴스 비율\",\n",
    "        \"FAKE/REAL 워드클라우드\"\n",
    "    ])"
   ]
  },
  {
   "cell_type": "code",
   "execution_count": null,
   "id": "695f60fc",
   "metadata": {},
   "outputs": [],
   "source": [
    "    if analysis_option == \"제목 단어 수 분포\":\n",
    "        st.subheader(\"✍️ 제목 단어 수 분포\")\n",
    "        fig, ax = plt.subplots()\n",
    "        sns.boxplot(data=df, x=\"label_text\", y=\"title_word_count\", ax=ax)\n",
    "        ax.set_title(\"FAKE vs REAL - 제목 단어 수 분포 (Boxplot)\")\n",
    "        st.pyplot(fig)"
   ]
  },
  {
   "cell_type": "code",
   "execution_count": null,
   "id": "8081aa7a",
   "metadata": {},
   "outputs": [],
   "source": [
    "    elif analysis_option == \"본문 단어 수 분포\":\n",
    "        st.subheader(\"📄 본문 단어 수 분포\")\n",
    "        fig, ax = plt.subplots()\n",
    "        sns.violinplot(data=df, x=\"label_text\", y=\"text_word_count\", ax=ax)\n",
    "        ax.set_title(\"FAKE vs REAL - 본문 단어 수 분포 (Violin Plot)\")\n",
    "        st.pyplot(fig)"
   ]
  },
  {
   "cell_type": "code",
   "execution_count": null,
   "id": "91d1da08",
   "metadata": {},
   "outputs": [],
   "source": [
    "    elif analysis_option == \"감정 점수 분포\":\n",
    "        st.subheader(\"📉 감정 점수 분포\")\n",
    "        fig, ax = plt.subplots()\n",
    "        sns.kdeplot(data=df, x=\"sentiment_score\", hue=\"label_text\", ax=ax, fill=True)\n",
    "        ax.set_title(\"감정 점수 분포 (FAKE vs REAL)\")\n",
    "        st.pyplot(fig)"
   ]
  },
  {
   "cell_type": "code",
   "execution_count": null,
   "id": "b5954cd6",
   "metadata": {},
   "outputs": [],
   "source": [
    "    elif analysis_option == \"감정 결과 분포\":\n",
    "        st.subheader(\"😐 감정 결과 분포\")\n",
    "        fig, ax = plt.subplots()\n",
    "        sns.countplot(data=df, x=\"sentiment_label\", hue=\"label_text\", ax=ax)\n",
    "        ax.set_title(\"감정 레이블 분포 (긍정/부정/중립)\")\n",
    "        st.pyplot(fig)"
   ]
  },
  {
   "cell_type": "code",
   "execution_count": null,
   "id": "c6f54f1a",
   "metadata": {},
   "outputs": [],
   "source": [
    "    elif analysis_option == \"자극 단어 포함 비율\":\n",
    "        st.subheader(\"🚨 자극적인 단어 포함 비율\")\n",
    "        buzzwords = [\"shocking\", \"scandal\", \"explosive\", \"truth\", \"bombshell\"]\n",
    "        def has_buzz(text):\n",
    "            text = str(text).lower()\n",
    "            return any(word in text for word in buzzwords)\n",
    "        df[\"buzz\"] = df[\"text\"].apply(has_buzz)\n",
    "        buzz_ratio = df.groupby(\"label_text\")[\"buzz\"].mean()\n",
    "        fig, ax = plt.subplots()\n",
    "        ax.pie(buzz_ratio, labels=buzz_ratio.index, autopct='%1.1f%%', startangle=140, colors=['#ff9999','#66b3ff'])\n",
    "        ax.set_title(\"FAKE vs REAL - 자극 단어 포함 비율\")\n",
    "        st.pyplot(fig)"
   ]
  },
  {
   "cell_type": "code",
   "execution_count": null,
   "id": "355647da",
   "metadata": {},
   "outputs": [],
   "source": [
    "    elif analysis_option == \"시기별 FAKE 뉴스 트렌드\":\n",
    "        st.subheader(\"📅 시기별 FAKE 뉴스 생성 추이\")\n",
    "        df_f = df[df[\"label_text\"] == \"FAKE\"].dropna(subset=[\"date\"])\n",
    "        df_f[\"month\"] = df_f[\"date\"].dt.to_period(\"M\").astype(str)\n",
    "        trend = df_f[\"month\"].value_counts().sort_index()\n",
    "        fig, ax = plt.subplots(figsize=(10, 4))\n",
    "        sns.lineplot(x=trend.index, y=trend.values, marker=\"o\", ax=ax)\n",
    "        ax.set_title(\"월별 FAKE 뉴스 생성량 추이\")\n",
    "        ax.set_xlabel(\"월\")\n",
    "        ax.set_ylabel(\"뉴스 수\")\n",
    "        plt.xticks(rotation=45)\n",
    "        st.pyplot(fig)"
   ]
  },
  {
   "cell_type": "code",
   "execution_count": null,
   "id": "2dbdc5b2",
   "metadata": {},
   "outputs": [],
   "source": [
    "    elif analysis_option == \"카테고리별 FAKE 뉴스 비율\":\n",
    "        st.subheader(\"🗂 카테고리별 FAKE 뉴스 비율\")\n",
    "        if \"subject\" in df.columns:\n",
    "            ratio = df.groupby(\"subject\")[\"label\"].mean().sort_values()\n",
    "            fig, ax = plt.subplots(figsize=(8, 6))\n",
    "            sns.barplot(x=ratio.values, y=ratio.index, ax=ax, palette=\"coolwarm\")\n",
    "            ax.set_title(\"카테고리별 FAKE 뉴스 비율\")\n",
    "            ax.set_xlabel(\"FAKE 비율\")\n",
    "            st.pyplot(fig)\n",
    "        else:\n",
    "            st.warning(\"⚠️ subject 컬럼이 없습니다.\")"
   ]
  },
  {
   "cell_type": "code",
   "execution_count": null,
   "id": "2e0fb7e6",
   "metadata": {},
   "outputs": [],
   "source": [
    "    elif analysis_option == \"FAKE/REAL 워드클라우드\":\n",
    "        st.subheader(\"☁️ FAKE vs REAL 워드클라우드\")\n",
    "        stop_words = set(stopwords.words('english'))\n",
    "        fake_text = ' '.join(df[df['label_text'] == \"FAKE\"][\"text\"].dropna())\n",
    "        real_text = ' '.join(df[df['label_text'] == \"REAL\"][\"text\"].dropna())"
   ]
  },
  {
   "cell_type": "code",
   "execution_count": null,
   "id": "009e857e",
   "metadata": {},
   "outputs": [],
   "source": [
    "        fake_wc = WordCloud(width=600, height=400, background_color='white', stopwords=stop_words).generate(fake_text)\n",
    "        real_wc = WordCloud(width=600, height=400, background_color='white', stopwords=stop_words).generate(real_text)"
   ]
  },
  {
   "cell_type": "code",
   "execution_count": null,
   "id": "f5e782dd",
   "metadata": {},
   "outputs": [],
   "source": [
    "        col1, col2 = st.columns(2)\n",
    "        with col1:\n",
    "            st.markdown(\"**FAKE 뉴스**\")\n",
    "            st.image(fake_wc.to_array())\n",
    "        with col2:\n",
    "            st.markdown(\"**REAL 뉴스**\")\n",
    "            st.image(real_wc.to_array())"
   ]
  }
 ],
 "metadata": {
  "language": "python"
 },
 "nbformat": 4,
 "nbformat_minor": 5
}
